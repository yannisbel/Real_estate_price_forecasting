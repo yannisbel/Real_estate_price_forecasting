{
  "cells": [
    {
      "cell_type": "markdown",
      "metadata": {
        "id": "P0-sx_s2NXl-"
      },
      "source": [
        "# Import des bibliothèques"
      ]
    },
    {
      "cell_type": "code",
      "execution_count": 1,
      "metadata": {
        "id": "BwKb2LbEAVm1"
      },
      "outputs": [],
      "source": [
        "import pandas as pd\n",
        "import numpy as np\n",
        "import matplotlib.pyplot as plt"
      ]
    },
    {
      "attachments": {},
      "cell_type": "markdown",
      "metadata": {
        "id": "vekDcLSYR4A7"
      },
      "source": [
        "# Modèle de régression\n"
      ]
    },
    {
      "attachments": {},
      "cell_type": "markdown",
      "metadata": {
        "id": "ziCbUjL5SPid"
      },
      "source": [
        "Chargement de notre meilleur modèle de regression : GradientBoostingRegressor"
      ]
    },
    {
      "cell_type": "code",
      "execution_count": 2,
      "metadata": {
        "colab": {
          "base_uri": "https://localhost:8080/"
        },
        "id": "5pwJQKcOWfjL",
        "outputId": "e30dcb98-34e1-40dc-a6b0-64e71aa54725"
      },
      "outputs": [],
      "source": [
        "from sklearn.ensemble import GradientBoostingRegressor\n",
        "\n",
        "gb_regressor = GradientBoostingRegressor()"
      ]
    },
    {
      "cell_type": "code",
      "execution_count": 3,
      "metadata": {},
      "outputs": [],
      "source": [
        "import joblib\n",
        "\n",
        "joblib.dump(gb_regressor, 'models/gb_regressor.pkl')\n",
        "gb_regressor = joblib.load('models/gb_regressor.pkl')"
      ]
    },
    {
      "attachments": {},
      "cell_type": "markdown",
      "metadata": {},
      "source": [
        "Pour une maison unique :"
      ]
    },
    {
      "cell_type": "code",
      "execution_count": 18,
      "metadata": {},
      "outputs": [
        {
          "data": {
            "text/plain": [
              "array([208762.33509667])"
            ]
          },
          "execution_count": 18,
          "metadata": {},
          "output_type": "execute_result"
        }
      ],
      "source": [
        "# Créer un dataframe à partir des données fournies\n",
        "data = pd.DataFrame(np.array([[7, 2003, 2003, 856, 856, 1710, 2, 8, 2, 548, 1, 1]]),\n",
        "                    columns=['OverallQual', 'YearBuilt', 'YearRemodAdd', 'TotalBsmtSF', '1stFlrSF',\n",
        "                             'GrLivArea', 'FullBath', 'TotRmsAbvGrd', 'GarageCars', 'GarageArea',\n",
        "                             'BsmtQual_Ex', 'KitchenQual_Ex'])\n",
        "\n",
        "# Charger le modèle entraîné\n",
        "gb_regressor = joblib.load('models/gb_regressor.pkl')\n",
        "\n",
        "# Utiliser le modèle pour faire des prédictions\n",
        "predictions = gb_regressor.predict(data)\n",
        "predictions"
      ]
    },
    {
      "attachments": {},
      "cell_type": "markdown",
      "metadata": {},
      "source": [
        "Pour un ensemble de maison (fichier data_to_predict.csv) :"
      ]
    },
    {
      "cell_type": "code",
      "execution_count": null,
      "metadata": {},
      "outputs": [],
      "source": [
        "# Charger le modèle entraîné\n",
        "model = joblib.load('models/gb_regressor.pkl')\n",
        "\n",
        "# Charger les données à prédire à partir d'un fichier CSV\n",
        "data = pd.read_csv('data/data_to_predict.csv')\n",
        "\n",
        "# Sélectionner les colonnes nécessaires pour la prédiction\n",
        "features = data[['OverallQual', 'YearBuilt', 'YearRemodAdd', 'TotalBsmtSF', '1stFlrSF', 'GrLivArea', 'FullBath', 'TotRmsAbvGrd', 'GarageCars', 'GarageArea', 'BsmtQual_Ex', 'KitchenQual_Ex']]\n",
        "\n",
        "# Faire la prédiction\n",
        "prediction = model.predict(features)\n",
        "\n",
        "# Afficher le résultat\n",
        "print(prediction)"
      ]
    },
    {
      "cell_type": "markdown",
      "metadata": {
        "id": "Fyo-kyxE5ViU"
      },
      "source": [
        "# IMPLÉMENTATION DE LA CLASSIFICATION"
      ]
    },
    {
      "attachments": {},
      "cell_type": "markdown",
      "metadata": {
        "id": "PDtKZ9FvTACk"
      },
      "source": [
        "Chargement de notre meilleur modèle de classification : RandomForest"
      ]
    },
    {
      "cell_type": "code",
      "execution_count": 5,
      "metadata": {
        "colab": {
          "base_uri": "https://localhost:8080/"
        },
        "id": "GdQSoq1d6IG6",
        "outputId": "36e8c3fe-666b-4cd3-c035-a1a2dc61e1c3"
      },
      "outputs": [],
      "source": [
        "from sklearn.ensemble import RandomForestClassifier\n",
        "\n",
        "rf = RandomForestClassifier(n_estimators=100, max_depth=5)"
      ]
    },
    {
      "cell_type": "code",
      "execution_count": 6,
      "metadata": {},
      "outputs": [],
      "source": [
        "import joblib\n",
        "\n",
        "joblib.dump(rf, 'models/rf_classifier.pkl')\n",
        "rf = joblib.load('models/rf_classifier.pkl')"
      ]
    },
    {
      "attachments": {},
      "cell_type": "markdown",
      "metadata": {},
      "source": [
        "Pour une maison unique :"
      ]
    },
    {
      "cell_type": "code",
      "execution_count": 19,
      "metadata": {},
      "outputs": [
        {
          "data": {
            "text/plain": [
              "array([2])"
            ]
          },
          "execution_count": 19,
          "metadata": {},
          "output_type": "execute_result"
        }
      ],
      "source": [
        "# Créer un dataframe à partir des données fournies\n",
        "data = pd.DataFrame(np.array([[7, 2003, 2003, 856, 856, 1710, 2, 8, 2, 548, 1, 1]]),\n",
        "                    columns=['OverallQual', 'YearBuilt', 'YearRemodAdd', 'TotalBsmtSF', '1stFlrSF',\n",
        "                             'GrLivArea', 'FullBath', 'TotRmsAbvGrd', 'GarageCars', 'GarageArea',\n",
        "                             'BsmtQual_Ex', 'KitchenQual_Ex'])\n",
        "\n",
        "# Charger le modèle entraîné\n",
        "rf_classifier = joblib.load('models/rf_classifier.pkl')\n",
        "\n",
        "# Utiliser le modèle pour faire des prédictions\n",
        "predictions = rf_classifier.predict(data)\n",
        "predictions"
      ]
    },
    {
      "attachments": {},
      "cell_type": "markdown",
      "metadata": {},
      "source": [
        "Pour un ensemble de maison (fichier data_to_predict.csv) :"
      ]
    },
    {
      "cell_type": "code",
      "execution_count": null,
      "metadata": {},
      "outputs": [],
      "source": [
        "# Charger le modèle entraîné\n",
        "model = joblib.load('models/rf_classifier.pkl')\n",
        "\n",
        "# Charger les données à prédire à partir d'un fichier CSV\n",
        "data = pd.read_csv('data/data_to_predict.csv')\n",
        "\n",
        "# Sélectionner les colonnes nécessaires pour la prédiction\n",
        "features = data[['OverallQual', 'YearBuilt', 'YearRemodAdd', 'TotalBsmtSF', '1stFlrSF', 'GrLivArea', 'FullBath', 'TotRmsAbvGrd', 'GarageCars', 'GarageArea', 'BsmtQual_Ex', 'KitchenQual_Ex']]\n",
        "\n",
        "# Faire la prédiction\n",
        "prediction = model.predict(features)\n",
        "\n",
        "# Afficher le résultat\n",
        "print(prediction)"
      ]
    }
  ],
  "metadata": {
    "colab": {
      "provenance": []
    },
    "kernelspec": {
      "display_name": "Python 3",
      "name": "python3"
    },
    "language_info": {
      "codemirror_mode": {
        "name": "ipython",
        "version": 3
      },
      "file_extension": ".py",
      "mimetype": "text/x-python",
      "name": "python",
      "nbconvert_exporter": "python",
      "pygments_lexer": "ipython3",
      "version": "3.10.5"
    }
  },
  "nbformat": 4,
  "nbformat_minor": 0
}
