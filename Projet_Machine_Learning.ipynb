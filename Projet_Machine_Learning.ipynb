{
  "cells": [
    {
      "cell_type": "markdown",
      "metadata": {
        "id": "P0-sx_s2NXl-"
      },
      "source": [
        "# Import des bibliothèques"
      ]
    },
    {
      "cell_type": "code",
      "execution_count": 62,
      "metadata": {
        "id": "BwKb2LbEAVm1"
      },
      "outputs": [],
      "source": [
        "import pandas as pd\n",
        "import numpy as np\n",
        "import matplotlib.pyplot as plt"
      ]
    },
    {
      "cell_type": "markdown",
      "metadata": {
        "id": "DDLh0m7dNoHz"
      },
      "source": [
        "# Import des données"
      ]
    },
    {
      "cell_type": "code",
      "execution_count": 63,
      "metadata": {
        "id": "fUXR-9nddfA1"
      },
      "outputs": [],
      "source": [
        "df_global = pd.read_csv('data\\Ames_houses.csv')\n",
        "df_global = df_global.sample(n=1460) #on prend n valeurs aléatoires (ici toutes)\n",
        "df_price_global = df_global[['SalePrice']]\n",
        "df_global = df_global.drop(['Id', 'SalePrice'], axis=1) #on supprime la colonne Id qui n'apporte aucune information car est unique pour chaque ligne"
      ]
    },
    {
      "cell_type": "markdown",
      "metadata": {
        "id": "-aH7K1vINql8"
      },
      "source": [
        "Analyse des données importées"
      ]
    },
    {
      "cell_type": "code",
      "execution_count": 64,
      "metadata": {
        "colab": {
          "base_uri": "https://localhost:8080/"
        },
        "id": "zQXk-M8OBTCy",
        "outputId": "7c059522-7ad1-4c04-f2a7-ccf00700f079"
      },
      "outputs": [
        {
          "data": {
            "text/plain": [
              "((1460, 79), (1460, 1))"
            ]
          },
          "execution_count": 64,
          "metadata": {},
          "output_type": "execute_result"
        }
      ],
      "source": [
        "df_global.shape, df_price_global.shape"
      ]
    },
    {
      "cell_type": "code",
      "execution_count": 65,
      "metadata": {
        "colab": {
          "base_uri": "https://localhost:8080/",
          "height": 236
        },
        "id": "W_7-3ZYEBZn3",
        "outputId": "a8da1489-e819-4063-af50-17078ced8eee"
      },
      "outputs": [
        {
          "data": {
            "text/html": [
              "<div>\n",
              "<style scoped>\n",
              "    .dataframe tbody tr th:only-of-type {\n",
              "        vertical-align: middle;\n",
              "    }\n",
              "\n",
              "    .dataframe tbody tr th {\n",
              "        vertical-align: top;\n",
              "    }\n",
              "\n",
              "    .dataframe thead th {\n",
              "        text-align: right;\n",
              "    }\n",
              "</style>\n",
              "<table border=\"1\" class=\"dataframe\">\n",
              "  <thead>\n",
              "    <tr style=\"text-align: right;\">\n",
              "      <th></th>\n",
              "      <th>MSSubClass</th>\n",
              "      <th>MSZoning</th>\n",
              "      <th>LotFrontage</th>\n",
              "      <th>LotArea</th>\n",
              "      <th>Street</th>\n",
              "      <th>Alley</th>\n",
              "      <th>LotShape</th>\n",
              "      <th>LandContour</th>\n",
              "      <th>Utilities</th>\n",
              "      <th>LotConfig</th>\n",
              "      <th>...</th>\n",
              "      <th>ScreenPorch</th>\n",
              "      <th>PoolArea</th>\n",
              "      <th>PoolQC</th>\n",
              "      <th>Fence</th>\n",
              "      <th>MiscFeature</th>\n",
              "      <th>MiscVal</th>\n",
              "      <th>MoSold</th>\n",
              "      <th>YrSold</th>\n",
              "      <th>SaleType</th>\n",
              "      <th>SaleCondition</th>\n",
              "    </tr>\n",
              "  </thead>\n",
              "  <tbody>\n",
              "    <tr>\n",
              "      <th>1326</th>\n",
              "      <td>30</td>\n",
              "      <td>RH</td>\n",
              "      <td>70.0</td>\n",
              "      <td>4270</td>\n",
              "      <td>Pave</td>\n",
              "      <td>NaN</td>\n",
              "      <td>Reg</td>\n",
              "      <td>Bnk</td>\n",
              "      <td>AllPub</td>\n",
              "      <td>Inside</td>\n",
              "      <td>...</td>\n",
              "      <td>0</td>\n",
              "      <td>0</td>\n",
              "      <td>NaN</td>\n",
              "      <td>NaN</td>\n",
              "      <td>NaN</td>\n",
              "      <td>0</td>\n",
              "      <td>5</td>\n",
              "      <td>2007</td>\n",
              "      <td>WD</td>\n",
              "      <td>Normal</td>\n",
              "    </tr>\n",
              "    <tr>\n",
              "      <th>1386</th>\n",
              "      <td>60</td>\n",
              "      <td>RL</td>\n",
              "      <td>80.0</td>\n",
              "      <td>16692</td>\n",
              "      <td>Pave</td>\n",
              "      <td>NaN</td>\n",
              "      <td>IR1</td>\n",
              "      <td>Lvl</td>\n",
              "      <td>AllPub</td>\n",
              "      <td>Inside</td>\n",
              "      <td>...</td>\n",
              "      <td>440</td>\n",
              "      <td>519</td>\n",
              "      <td>Fa</td>\n",
              "      <td>MnPrv</td>\n",
              "      <td>TenC</td>\n",
              "      <td>2000</td>\n",
              "      <td>7</td>\n",
              "      <td>2006</td>\n",
              "      <td>WD</td>\n",
              "      <td>Normal</td>\n",
              "    </tr>\n",
              "    <tr>\n",
              "      <th>1371</th>\n",
              "      <td>80</td>\n",
              "      <td>RL</td>\n",
              "      <td>80.0</td>\n",
              "      <td>9600</td>\n",
              "      <td>Pave</td>\n",
              "      <td>NaN</td>\n",
              "      <td>Reg</td>\n",
              "      <td>Lvl</td>\n",
              "      <td>AllPub</td>\n",
              "      <td>Inside</td>\n",
              "      <td>...</td>\n",
              "      <td>178</td>\n",
              "      <td>0</td>\n",
              "      <td>NaN</td>\n",
              "      <td>MnPrv</td>\n",
              "      <td>NaN</td>\n",
              "      <td>0</td>\n",
              "      <td>10</td>\n",
              "      <td>2008</td>\n",
              "      <td>WD</td>\n",
              "      <td>Normal</td>\n",
              "    </tr>\n",
              "    <tr>\n",
              "      <th>526</th>\n",
              "      <td>20</td>\n",
              "      <td>RL</td>\n",
              "      <td>70.0</td>\n",
              "      <td>13300</td>\n",
              "      <td>Pave</td>\n",
              "      <td>NaN</td>\n",
              "      <td>Reg</td>\n",
              "      <td>Lvl</td>\n",
              "      <td>AllPub</td>\n",
              "      <td>Inside</td>\n",
              "      <td>...</td>\n",
              "      <td>0</td>\n",
              "      <td>0</td>\n",
              "      <td>NaN</td>\n",
              "      <td>NaN</td>\n",
              "      <td>NaN</td>\n",
              "      <td>0</td>\n",
              "      <td>6</td>\n",
              "      <td>2007</td>\n",
              "      <td>WD</td>\n",
              "      <td>Normal</td>\n",
              "    </tr>\n",
              "    <tr>\n",
              "      <th>216</th>\n",
              "      <td>20</td>\n",
              "      <td>RL</td>\n",
              "      <td>65.0</td>\n",
              "      <td>8450</td>\n",
              "      <td>Pave</td>\n",
              "      <td>NaN</td>\n",
              "      <td>Reg</td>\n",
              "      <td>Lvl</td>\n",
              "      <td>AllPub</td>\n",
              "      <td>Inside</td>\n",
              "      <td>...</td>\n",
              "      <td>0</td>\n",
              "      <td>0</td>\n",
              "      <td>NaN</td>\n",
              "      <td>NaN</td>\n",
              "      <td>NaN</td>\n",
              "      <td>0</td>\n",
              "      <td>4</td>\n",
              "      <td>2008</td>\n",
              "      <td>WD</td>\n",
              "      <td>Normal</td>\n",
              "    </tr>\n",
              "  </tbody>\n",
              "</table>\n",
              "<p>5 rows × 79 columns</p>\n",
              "</div>"
            ],
            "text/plain": [
              "      MSSubClass MSZoning  LotFrontage  LotArea Street Alley LotShape  \\\n",
              "1326          30       RH         70.0     4270   Pave   NaN      Reg   \n",
              "1386          60       RL         80.0    16692   Pave   NaN      IR1   \n",
              "1371          80       RL         80.0     9600   Pave   NaN      Reg   \n",
              "526           20       RL         70.0    13300   Pave   NaN      Reg   \n",
              "216           20       RL         65.0     8450   Pave   NaN      Reg   \n",
              "\n",
              "     LandContour Utilities LotConfig  ... ScreenPorch PoolArea PoolQC  Fence  \\\n",
              "1326         Bnk    AllPub    Inside  ...           0        0    NaN    NaN   \n",
              "1386         Lvl    AllPub    Inside  ...         440      519     Fa  MnPrv   \n",
              "1371         Lvl    AllPub    Inside  ...         178        0    NaN  MnPrv   \n",
              "526          Lvl    AllPub    Inside  ...           0        0    NaN    NaN   \n",
              "216          Lvl    AllPub    Inside  ...           0        0    NaN    NaN   \n",
              "\n",
              "     MiscFeature MiscVal  MoSold  YrSold  SaleType  SaleCondition  \n",
              "1326         NaN       0       5    2007        WD         Normal  \n",
              "1386        TenC    2000       7    2006        WD         Normal  \n",
              "1371         NaN       0      10    2008        WD         Normal  \n",
              "526          NaN       0       6    2007        WD         Normal  \n",
              "216          NaN       0       4    2008        WD         Normal  \n",
              "\n",
              "[5 rows x 79 columns]"
            ]
          },
          "execution_count": 65,
          "metadata": {},
          "output_type": "execute_result"
        }
      ],
      "source": [
        "df_global.head()"
      ]
    },
    {
      "cell_type": "markdown",
      "metadata": {
        "id": "YBMH2xW8IjQn"
      },
      "source": [
        "# Suppression des colonnes vides"
      ]
    },
    {
      "cell_type": "code",
      "execution_count": 66,
      "metadata": {
        "id": "9a6t-bULE3X5"
      },
      "outputs": [],
      "source": [
        "#on créer un dataframe df_vide qui  contient pour chaque colonne le pourcentage de valeurs non renseignées\n",
        "df_vide = [[nom_colonne, df_global[nom_colonne].isnull().mean() * 100] for nom_colonne in df_global.columns]\n",
        "df_vide = pd.DataFrame(df_vide, columns=['nom_colonne', 'pourcentage_vide'])\n",
        "df_vide = df_vide.sort_values(by='pourcentage_vide', ascending=False)"
      ]
    },
    {
      "cell_type": "code",
      "execution_count": 67,
      "metadata": {
        "colab": {
          "base_uri": "https://localhost:8080/",
          "height": 551
        },
        "id": "VJyWz1N2Iyc0",
        "outputId": "b4094ff9-1549-4b0b-fc7f-89529f05a6a1"
      },
      "outputs": [
        {
          "data": {
            "image/png": "[encoded data removed]",
            "text/plain": [
              "<Figure size 1500x500 with 1 Axes>"
            ]
          },
          "metadata": {},
          "output_type": "display_data"
        }
      ],
      "source": [
        "#on affiche graphiquement les colonnes les plus vides\n",
        "df_vide.loc[df_vide['pourcentage_vide'] > 0.05].plot.bar(x='nom_colonne', y='pourcentage_vide', figsize=(15,5)) #on affiche que celle avec plus de 5% vide\n",
        "plt.ylabel('Pourcentage de valeurs non renseignées')\n",
        "plt.axhline(y=10,color='r',linestyle='--') #on trace sur le graphe la limite des 10%\n",
        "plt.show()"
      ]
    },
    {
      "cell_type": "code",
      "execution_count": 68,
      "metadata": {
        "id": "AlhVnsxyI2QJ"
      },
      "outputs": [],
      "source": [
        "#on supprime les colonnes plus de 10% vides\n",
        "df_global = df_global.drop(df_vide[df_vide['pourcentage_vide'] > 10]['nom_colonne'], axis=1)"
      ]
    },
    {
      "cell_type": "markdown",
      "metadata": {
        "id": "0GwIKrz3PNeJ"
      },
      "source": [
        "Vérification de la suppression des colonnes"
      ]
    },
    {
      "cell_type": "code",
      "execution_count": 69,
      "metadata": {
        "colab": {
          "base_uri": "https://localhost:8080/"
        },
        "id": "cJe8EWn2I3Xk",
        "outputId": "9fccc00a-52cf-4199-faef-1f56c73bd6a1"
      },
      "outputs": [
        {
          "name": "stdout",
          "output_type": "stream",
          "text": [
            "(1460, 73)\n"
          ]
        }
      ],
      "source": [
        "print(df_global.shape)"
      ]
    },
    {
      "cell_type": "markdown",
      "metadata": {
        "id": "TI9_Gfg7I_5K"
      },
      "source": [
        "# Remplissage des valeurs manquantes"
      ]
    },
    {
      "cell_type": "code",
      "execution_count": 70,
      "metadata": {
        "id": "tgIUiJ7oJCs4"
      },
      "outputs": [],
      "source": [
        "for nom_colonne in df_global:\n",
        "    if df_global[nom_colonne].dtype == 'object':\n",
        "      plus_represente = df_global[nom_colonne].mode().iloc[0] #on met la valeur la plus représentée dans les colonnes catégorielles\n",
        "      df_global[nom_colonne] = df_global[nom_colonne].fillna(plus_represente)\n",
        "    else:\n",
        "      moyenne = df_global[nom_colonne].mean() #on met la valeur la plus représentée dans les colonnes catégorielles\n",
        "      df_global[nom_colonne] = df_global[nom_colonne].fillna(moyenne)"
      ]
    },
    {
      "cell_type": "markdown",
      "metadata": {
        "id": "HDph9JNpPuQw"
      },
      "source": [
        "Vérification du remplissage"
      ]
    },
    {
      "cell_type": "code",
      "execution_count": 71,
      "metadata": {
        "colab": {
          "base_uri": "https://localhost:8080/"
        },
        "id": "VEHRzCdVJNok",
        "outputId": "ed782fc3-bb08-4b26-c42c-2eb602aba2dc"
      },
      "outputs": [
        {
          "name": "stdout",
          "output_type": "stream",
          "text": [
            "0.0\n"
          ]
        }
      ],
      "source": [
        "#on vérifie ensuite que toutes les colonnes sont bien remplies\n",
        "\n",
        "df_vide = [[nom_colonne, df_global[nom_colonne].isnull().mean() * 100] for nom_colonne in df_global.columns]\n",
        "df_vide = pd.DataFrame(df_vide, columns=['nom_colonne', 'pourcentage_vide'])\n",
        "\n",
        "print(df_vide['pourcentage_vide'].sum())"
      ]
    },
    {
      "cell_type": "markdown",
      "metadata": {
        "id": "pa6FczD1JQlE"
      },
      "source": [
        "# Encodage des colonnes catégorielles"
      ]
    },
    {
      "cell_type": "code",
      "execution_count": 72,
      "metadata": {
        "id": "2Wbm-ulCJR8C"
      },
      "outputs": [],
      "source": [
        "# On applique get_dummies() pour les colonnes catégorielles\n",
        "df_global = pd.get_dummies(df_global, columns = df_global.select_dtypes(include=['object']).columns)"
      ]
    },
    {
      "cell_type": "markdown",
      "metadata": {
        "id": "Q6WIK733QXf4"
      },
      "source": [
        "Vérification du remplissage"
      ]
    },
    {
      "cell_type": "code",
      "execution_count": 73,
      "metadata": {
        "colab": {
          "base_uri": "https://localhost:8080/",
          "height": 300
        },
        "id": "1Cn7p065QXL7",
        "outputId": "0e8778cd-10de-4076-e84a-fdaf293e2e4f"
      },
      "outputs": [
        {
          "data": {
            "text/html": [
              "<div>\n",
              "<style scoped>\n",
              "    .dataframe tbody tr th:only-of-type {\n",
              "        vertical-align: middle;\n",
              "    }\n",
              "\n",
              "    .dataframe tbody tr th {\n",
              "        vertical-align: top;\n",
              "    }\n",
              "\n",
              "    .dataframe thead th {\n",
              "        text-align: right;\n",
              "    }\n",
              "</style>\n",
              "<table border=\"1\" class=\"dataframe\">\n",
              "  <thead>\n",
              "    <tr style=\"text-align: right;\">\n",
              "      <th></th>\n",
              "      <th>MSSubClass</th>\n",
              "      <th>LotArea</th>\n",
              "      <th>OverallQual</th>\n",
              "      <th>OverallCond</th>\n",
              "      <th>YearBuilt</th>\n",
              "      <th>YearRemodAdd</th>\n",
              "      <th>MasVnrArea</th>\n",
              "      <th>BsmtFinSF1</th>\n",
              "      <th>BsmtFinSF2</th>\n",
              "      <th>BsmtUnfSF</th>\n",
              "      <th>...</th>\n",
              "      <th>SaleType_ConLw</th>\n",
              "      <th>SaleType_New</th>\n",
              "      <th>SaleType_Oth</th>\n",
              "      <th>SaleType_WD</th>\n",
              "      <th>SaleCondition_Abnorml</th>\n",
              "      <th>SaleCondition_AdjLand</th>\n",
              "      <th>SaleCondition_Alloca</th>\n",
              "      <th>SaleCondition_Family</th>\n",
              "      <th>SaleCondition_Normal</th>\n",
              "      <th>SaleCondition_Partial</th>\n",
              "    </tr>\n",
              "  </thead>\n",
              "  <tbody>\n",
              "    <tr>\n",
              "      <th>1326</th>\n",
              "      <td>30</td>\n",
              "      <td>4270</td>\n",
              "      <td>3</td>\n",
              "      <td>6</td>\n",
              "      <td>1931</td>\n",
              "      <td>2006</td>\n",
              "      <td>0.0</td>\n",
              "      <td>544</td>\n",
              "      <td>0</td>\n",
              "      <td>0</td>\n",
              "      <td>...</td>\n",
              "      <td>0</td>\n",
              "      <td>0</td>\n",
              "      <td>0</td>\n",
              "      <td>1</td>\n",
              "      <td>0</td>\n",
              "      <td>0</td>\n",
              "      <td>0</td>\n",
              "      <td>0</td>\n",
              "      <td>1</td>\n",
              "      <td>0</td>\n",
              "    </tr>\n",
              "    <tr>\n",
              "      <th>1386</th>\n",
              "      <td>60</td>\n",
              "      <td>16692</td>\n",
              "      <td>7</td>\n",
              "      <td>5</td>\n",
              "      <td>1978</td>\n",
              "      <td>1978</td>\n",
              "      <td>184.0</td>\n",
              "      <td>790</td>\n",
              "      <td>469</td>\n",
              "      <td>133</td>\n",
              "      <td>...</td>\n",
              "      <td>0</td>\n",
              "      <td>0</td>\n",
              "      <td>0</td>\n",
              "      <td>1</td>\n",
              "      <td>0</td>\n",
              "      <td>0</td>\n",
              "      <td>0</td>\n",
              "      <td>0</td>\n",
              "      <td>1</td>\n",
              "      <td>0</td>\n",
              "    </tr>\n",
              "    <tr>\n",
              "      <th>1371</th>\n",
              "      <td>80</td>\n",
              "      <td>9600</td>\n",
              "      <td>6</td>\n",
              "      <td>6</td>\n",
              "      <td>1955</td>\n",
              "      <td>1996</td>\n",
              "      <td>0.0</td>\n",
              "      <td>831</td>\n",
              "      <td>0</td>\n",
              "      <td>161</td>\n",
              "      <td>...</td>\n",
              "      <td>0</td>\n",
              "      <td>0</td>\n",
              "      <td>0</td>\n",
              "      <td>1</td>\n",
              "      <td>0</td>\n",
              "      <td>0</td>\n",
              "      <td>0</td>\n",
              "      <td>0</td>\n",
              "      <td>1</td>\n",
              "      <td>0</td>\n",
              "    </tr>\n",
              "    <tr>\n",
              "      <th>526</th>\n",
              "      <td>20</td>\n",
              "      <td>13300</td>\n",
              "      <td>5</td>\n",
              "      <td>7</td>\n",
              "      <td>1956</td>\n",
              "      <td>2000</td>\n",
              "      <td>0.0</td>\n",
              "      <td>377</td>\n",
              "      <td>0</td>\n",
              "      <td>551</td>\n",
              "      <td>...</td>\n",
              "      <td>0</td>\n",
              "      <td>0</td>\n",
              "      <td>0</td>\n",
              "      <td>1</td>\n",
              "      <td>0</td>\n",
              "      <td>0</td>\n",
              "      <td>0</td>\n",
              "      <td>0</td>\n",
              "      <td>1</td>\n",
              "      <td>0</td>\n",
              "    </tr>\n",
              "    <tr>\n",
              "      <th>216</th>\n",
              "      <td>20</td>\n",
              "      <td>8450</td>\n",
              "      <td>7</td>\n",
              "      <td>5</td>\n",
              "      <td>2004</td>\n",
              "      <td>2004</td>\n",
              "      <td>266.0</td>\n",
              "      <td>946</td>\n",
              "      <td>0</td>\n",
              "      <td>490</td>\n",
              "      <td>...</td>\n",
              "      <td>0</td>\n",
              "      <td>0</td>\n",
              "      <td>0</td>\n",
              "      <td>1</td>\n",
              "      <td>0</td>\n",
              "      <td>0</td>\n",
              "      <td>0</td>\n",
              "      <td>0</td>\n",
              "      <td>1</td>\n",
              "      <td>0</td>\n",
              "    </tr>\n",
              "  </tbody>\n",
              "</table>\n",
              "<p>5 rows × 269 columns</p>\n",
              "</div>"
            ],
            "text/plain": [
              "      MSSubClass  LotArea  OverallQual  OverallCond  YearBuilt  YearRemodAdd  \\\n",
              "1326          30     4270            3            6       1931          2006   \n",
              "1386          60    16692            7            5       1978          1978   \n",
              "1371          80     9600            6            6       1955          1996   \n",
              "526           20    13300            5            7       1956          2000   \n",
              "216           20     8450            7            5       2004          2004   \n",
              "\n",
              "      MasVnrArea  BsmtFinSF1  BsmtFinSF2  BsmtUnfSF  ...  SaleType_ConLw  \\\n",
              "1326         0.0         544           0          0  ...               0   \n",
              "1386       184.0         790         469        133  ...               0   \n",
              "1371         0.0         831           0        161  ...               0   \n",
              "526          0.0         377           0        551  ...               0   \n",
              "216        266.0         946           0        490  ...               0   \n",
              "\n",
              "      SaleType_New  SaleType_Oth  SaleType_WD  SaleCondition_Abnorml  \\\n",
              "1326             0             0            1                      0   \n",
              "1386             0             0            1                      0   \n",
              "1371             0             0            1                      0   \n",
              "526              0             0            1                      0   \n",
              "216              0             0            1                      0   \n",
              "\n",
              "      SaleCondition_AdjLand  SaleCondition_Alloca  SaleCondition_Family  \\\n",
              "1326                      0                     0                     0   \n",
              "1386                      0                     0                     0   \n",
              "1371                      0                     0                     0   \n",
              "526                       0                     0                     0   \n",
              "216                       0                     0                     0   \n",
              "\n",
              "      SaleCondition_Normal  SaleCondition_Partial  \n",
              "1326                     1                      0  \n",
              "1386                     1                      0  \n",
              "1371                     1                      0  \n",
              "526                      1                      0  \n",
              "216                      1                      0  \n",
              "\n",
              "[5 rows x 269 columns]"
            ]
          },
          "execution_count": 73,
          "metadata": {},
          "output_type": "execute_result"
        }
      ],
      "source": [
        "df_global.head() #plus de string mais des valeurs binaires"
      ]
    },
    {
      "cell_type": "markdown",
      "metadata": {
        "id": "tR-D2ufLQozt"
      },
      "source": [
        "On obtient 269 colonnes au total"
      ]
    },
    {
      "cell_type": "markdown",
      "metadata": {
        "id": "54WEoiZqJbhG"
      },
      "source": [
        "# Division des données en jeu d'entrainement et jeu de test"
      ]
    },
    {
      "cell_type": "markdown",
      "metadata": {
        "id": "UGV86eDPYsvq"
      },
      "source": [
        "La répartition se fait aléatoirement : deux appels consécutifs ne donnent pas le même résultat"
      ]
    },
    {
      "cell_type": "code",
      "execution_count": 74,
      "metadata": {
        "id": "DHmFHwn4CXdG"
      },
      "outputs": [],
      "source": [
        "from sklearn.model_selection import train_test_split\n",
        "X_train, X_test, y_train, y_test = train_test_split(df_global, df_price_global, test_size=0.2) #répartition fixé à 0.8 et 0.2 (choix) "
      ]
    },
    {
      "cell_type": "markdown",
      "metadata": {
        "id": "JzV0d9WKO5q_"
      },
      "source": [
        "# Analyse de la corrélation entre les caractéristiques et la variable cible"
      ]
    },
    {
      "cell_type": "code",
      "execution_count": 75,
      "metadata": {
        "id": "9K6am3JvJ3lT"
      },
      "outputs": [],
      "source": [
        "train_global = pd.concat([X_train, y_train], axis=1) #on réassocie les prix à leurs données X_train"
      ]
    },
    {
      "cell_type": "code",
      "execution_count": 76,
      "metadata": {
        "id": "ehL6L0nmC8Ki"
      },
      "outputs": [],
      "source": [
        "corr = train_global.corr()\n",
        "nom_colonne = corr[corr['SalePrice']>0.5].index #on supprime les colonnes corrélées à moins de 0.5 avec SalePrice"
      ]
    },
    {
      "cell_type": "markdown",
      "metadata": {
        "id": "SNQAdrJ5RnSY"
      },
      "source": [
        "On vérifie cela graphiquement"
      ]
    },
    {
      "cell_type": "code",
      "execution_count": 77,
      "metadata": {
        "colab": {
          "base_uri": "https://localhost:8080/",
          "height": 887
        },
        "id": "a1om5WjRD1MC",
        "outputId": "5f718ebe-c6a6-48df-ca12-2b35a42903d4"
      },
      "outputs": [
        {
          "data": {
            "image/png": "[encoded data removed]",
            "text/plain": [
              "<Figure size 3000x1200 with 2 Axes>"
            ]
          },
          "metadata": {},
          "output_type": "display_data"
        }
      ],
      "source": [
        "import seaborn as sns\n",
        "\n",
        "train_global = train_global[nom_colonne]\n",
        "plt.figure(figsize=(30,12))\n",
        "sns.heatmap(train_global.corr(), cmap = 'coolwarm', annot=True)\n",
        "plt.show()"
      ]
    },
    {
      "cell_type": "markdown",
      "metadata": {
        "id": "4xIrMMXmRuuu"
      },
      "source": [
        "Dans la colonne/ligne SalePrice, toutes les colonnes conservées ont plus de 0.5 comme valeur dans la matrice de corrélation"
      ]
    },
    {
      "cell_type": "code",
      "execution_count": 78,
      "metadata": {
        "id": "cT6FMr-NKdf-"
      },
      "outputs": [],
      "source": [
        "nom_colonne = nom_colonne.drop(['SalePrice'])\n",
        "X_train = X_train[nom_colonne]\n",
        "X_test = X_test[nom_colonne] #on ne conserve que ces colonnes dans les deux jeux de données"
      ]
    },
    {
      "cell_type": "code",
      "execution_count": 79,
      "metadata": {},
      "outputs": [
        {
          "data": {
            "text/plain": [
              "Index(['OverallQual', 'YearBuilt', 'YearRemodAdd', 'TotalBsmtSF', '1stFlrSF',\n",
              "       'GrLivArea', 'FullBath', 'TotRmsAbvGrd', 'GarageCars', 'GarageArea',\n",
              "       'BsmtQual_Ex'],\n",
              "      dtype='object')"
            ]
          },
          "execution_count": 79,
          "metadata": {},
          "output_type": "execute_result"
        }
      ],
      "source": [
        "nom_colonne"
      ]
    },
    {
      "cell_type": "markdown",
      "metadata": {
        "id": "vekDcLSYR4A7"
      },
      "source": [
        "# IMPLÉMENTATION DE LA RÉGRESSION\n"
      ]
    },
    {
      "cell_type": "markdown",
      "metadata": {
        "id": "ziCbUjL5SPid"
      },
      "source": [
        "Import des métriques utilisées"
      ]
    },
    {
      "cell_type": "code",
      "execution_count": 44,
      "metadata": {
        "id": "Szi7p-dAtYk7"
      },
      "outputs": [],
      "source": [
        "from sklearn.metrics import mean_squared_error, mean_absolute_error, r2_score"
      ]
    },
    {
      "cell_type": "markdown",
      "metadata": {
        "id": "9pnNC73USTn8"
      },
      "source": [
        "Modèle Linéaire"
      ]
    },
    {
      "cell_type": "code",
      "execution_count": 45,
      "metadata": {
        "colab": {
          "base_uri": "https://localhost:8080/"
        },
        "id": "DjwFiaWaOeD-",
        "outputId": "f8c48a28-5be8-414d-bb2c-cd98a0822507"
      },
      "outputs": [
        {
          "name": "stdout",
          "output_type": "stream",
          "text": [
            "27491.607935933134 755788506.9030617 20344.662113938117 0.8394209901964829\n"
          ]
        }
      ],
      "source": [
        "from sklearn.linear_model import LinearRegression\n",
        "\n",
        "mlr = LinearRegression()\n",
        "mlr.fit(X_train,y_train)\n",
        "pred_mlr = mlr.predict(X_test)\n",
        "\n",
        "rmse = np.sqrt(mean_squared_error(pred_mlr, y_test))\n",
        "mse = mean_squared_error(pred_mlr, y_test)\n",
        "mae = mean_absolute_error(pred_mlr, y_test)\n",
        "r2 = r2_score(pred_mlr, y_test)\n",
        "\n",
        "print(rmse, mse,mae,r2)"
      ]
    },
    {
      "cell_type": "markdown",
      "metadata": {
        "id": "WmskHVIYSbZT"
      },
      "source": [
        "Modèle de Decision Tree"
      ]
    },
    {
      "cell_type": "code",
      "execution_count": 46,
      "metadata": {
        "colab": {
          "base_uri": "https://localhost:8080/"
        },
        "id": "B2Lj_LzISUoa",
        "outputId": "4c4824ac-41f1-4c6a-f479-9662b46f3ee5"
      },
      "outputs": [
        {
          "name": "stdout",
          "output_type": "stream",
          "text": [
            "34326.4176421577 1178302948.1438355 23532.22602739726 0.7535845530191856\n"
          ]
        }
      ],
      "source": [
        "from sklearn.tree import DecisionTreeRegressor\n",
        "\n",
        "tr_regressor = DecisionTreeRegressor(random_state=0)\n",
        "tr_regressor.fit(X_train,y_train)\n",
        "pred_tr = tr_regressor.predict(X_test)\n",
        "\n",
        "rmse = np.sqrt(mean_squared_error(pred_tr, y_test))\n",
        "mse = mean_squared_error(pred_tr, y_test)\n",
        "mae = mean_absolute_error(pred_tr, y_test)\n",
        "r2 = r2_score(pred_tr, y_test)\n",
        "\n",
        "print(rmse, mse, mae,r2)"
      ]
    },
    {
      "cell_type": "markdown",
      "metadata": {
        "id": "7qRuh5kLSkGi"
      },
      "source": [
        "Modèle de Random Forest"
      ]
    },
    {
      "cell_type": "code",
      "execution_count": 47,
      "metadata": {
        "colab": {
          "base_uri": "https://localhost:8080/"
        },
        "id": "9vVr1Xfbfakv",
        "outputId": "703ab5f7-cf9a-4914-eda5-e0273780a0c6"
      },
      "outputs": [
        {
          "name": "stdout",
          "output_type": "stream",
          "text": [
            "25572.17904540016 653936341.130003 18285.618970156553 0.8689389120173657\n"
          ]
        },
        {
          "name": "stderr",
          "output_type": "stream",
          "text": [
            "C:\\Users\\belkh\\AppData\\Local\\Temp\\ipykernel_23840\\1928266632.py:4: DataConversionWarning: A column-vector y was passed when a 1d array was expected. Please change the shape of y to (n_samples,), for example using ravel().\n",
            "  rf_regressor.fit(X_train,y_train)\n"
          ]
        }
      ],
      "source": [
        "from sklearn.ensemble import RandomForestRegressor\n",
        "\n",
        "rf_regressor = RandomForestRegressor(n_estimators=28,random_state=0)\n",
        "rf_regressor.fit(X_train,y_train)\n",
        "rf_pred =rf_regressor.predict(X_test)\n",
        "\n",
        "rmse = np.sqrt(mean_squared_error(rf_pred, y_test))\n",
        "mse = mean_squared_error(rf_pred, y_test)\n",
        "mae = mean_absolute_error(rf_pred, y_test)\n",
        "r2 = r2_score(rf_pred, y_test)\n",
        "\n",
        "print(rmse, mse, mae,r2)"
      ]
    },
    {
      "cell_type": "markdown",
      "metadata": {
        "id": "8meQto9KWdRe"
      },
      "source": [
        "Modèle Gradient Boosting"
      ]
    },
    {
      "cell_type": "code",
      "execution_count": 48,
      "metadata": {
        "colab": {
          "base_uri": "https://localhost:8080/"
        },
        "id": "5pwJQKcOWfjL",
        "outputId": "e30dcb98-34e1-40dc-a6b0-64e71aa54725"
      },
      "outputs": [
        {
          "name": "stdout",
          "output_type": "stream",
          "text": [
            "25316.711372993428 640935874.7434548 18166.747644786323 0.8698039041097684\n"
          ]
        },
        {
          "name": "stderr",
          "output_type": "stream",
          "text": [
            "c:\\Python310\\lib\\site-packages\\sklearn\\ensemble\\_gb.py:437: DataConversionWarning: A column-vector y was passed when a 1d array was expected. Please change the shape of y to (n_samples, ), for example using ravel().\n",
            "  y = column_or_1d(y, warn=True)\n"
          ]
        }
      ],
      "source": [
        "from sklearn.ensemble import GradientBoostingRegressor\n",
        "\n",
        "gb_regressor = GradientBoostingRegressor()\n",
        "gb_regressor.fit(X_train, y_train)\n",
        "gb_pred = gb_regressor.predict(X_test)\n",
        "\n",
        "rmse = np.sqrt(mean_squared_error(gb_pred, y_test))\n",
        "mse = mean_squared_error(gb_pred, y_test)\n",
        "mae = mean_absolute_error(gb_pred, y_test)\n",
        "r2 = r2_score(gb_pred, y_test)\n",
        "\n",
        "print(rmse, mse, mae,r2)"
      ]
    },
    {
      "cell_type": "code",
      "execution_count": 49,
      "metadata": {},
      "outputs": [
        {
          "name": "stdout",
          "output_type": "stream",
          "text": [
            "25490.931428326316 649787585.0836343 18245.646512096857 0.8682491818725208\n"
          ]
        },
        {
          "name": "stderr",
          "output_type": "stream",
          "text": [
            "c:\\Python310\\lib\\site-packages\\sklearn\\ensemble\\_gb.py:437: DataConversionWarning: A column-vector y was passed when a 1d array was expected. Please change the shape of y to (n_samples, ), for example using ravel().\n",
            "  y = column_or_1d(y, warn=True)\n"
          ]
        }
      ],
      "source": [
        "from sklearn.ensemble import GradientBoostingRegressor\n",
        "\n",
        "gb_regressor = GradientBoostingRegressor()\n",
        "gb_regressor.fit(X_train, y_train)\n",
        "gb_pred = gb_regressor.predict(X_test)\n",
        "\n",
        "rmse = np.sqrt(mean_squared_error(gb_pred, y_test))\n",
        "mse = mean_squared_error(gb_pred, y_test)\n",
        "mae = mean_absolute_error(gb_pred, y_test)\n",
        "r2 = r2_score(gb_pred, y_test)\n",
        "\n",
        "print(rmse, mse, mae,r2)"
      ]
    },
    {
      "cell_type": "markdown",
      "metadata": {
        "id": "geFX5pwnWg2g"
      },
      "source": [
        "Modèle Extrem Gradient Boosting"
      ]
    },
    {
      "cell_type": "code",
      "execution_count": 50,
      "metadata": {
        "colab": {
          "base_uri": "https://localhost:8080/"
        },
        "id": "o6nwqA82XlGS",
        "outputId": "ae122ee1-2112-43a4-888f-0d91b5a80e43"
      },
      "outputs": [
        {
          "name": "stdout",
          "output_type": "stream",
          "text": [
            "28298.470080410043 800803408.8918624 20272.247485017124 0.8358393086482736\n"
          ]
        }
      ],
      "source": [
        "import xgboost as xgb\n",
        "\n",
        "xgb_regressor = xgb.XGBRegressor()\n",
        "xgb_regressor.fit(X_train, y_train)\n",
        "xgb_pred = xgb_regressor.predict(X_test)\n",
        "\n",
        "rmse = np.sqrt(mean_squared_error(xgb_pred, y_test))\n",
        "mse = mean_squared_error(xgb_pred, y_test)\n",
        "mae = mean_absolute_error(xgb_pred, y_test)\n",
        "r2 = r2_score(xgb_pred, y_test)\n",
        "\n",
        "print(rmse, mse, mae,r2)"
      ]
    },
    {
      "cell_type": "markdown",
      "metadata": {
        "id": "Fyo-kyxE5ViU"
      },
      "source": [
        "# IMPLÉMENTATION DE LA CLASSIFICATION"
      ]
    },
    {
      "cell_type": "markdown",
      "metadata": {
        "id": "PDtKZ9FvTACk"
      },
      "source": [
        "import de la métrique utilisée"
      ]
    },
    {
      "cell_type": "code",
      "execution_count": 51,
      "metadata": {
        "id": "HJi4j4TF-bIo"
      },
      "outputs": [],
      "source": [
        "from sklearn.metrics import accuracy_score\n",
        "from sklearn.metrics import confusion_matrix"
      ]
    },
    {
      "cell_type": "markdown",
      "metadata": {
        "id": "iqUj-CzwSzzX"
      },
      "source": [
        "On sépare les prix en 4 classes correspondant aux 4 quartiles (classe 0, 1, 2, 3)"
      ]
    },
    {
      "cell_type": "code",
      "execution_count": 52,
      "metadata": {
        "id": "gufv72wS4bs6"
      },
      "outputs": [],
      "source": [
        "from sklearn.preprocessing import LabelEncoder\n",
        "\n",
        "df_global = df_global[nom_colonne]\n",
        "df_price_global['SalePrice_class'] = pd.qcut(df_price_global['SalePrice'], q=4, labels=['Q1', 'Q2', 'Q3', 'Q4'])\n",
        "le = LabelEncoder()\n",
        "df_price_global['SalePrice_class'] = le.fit_transform(df_price_global['SalePrice_class'])"
      ]
    },
    {
      "cell_type": "code",
      "execution_count": 53,
      "metadata": {
        "colab": {
          "base_uri": "https://localhost:8080/"
        },
        "id": "bbPyXa0AZise",
        "outputId": "1cbf4599-aa3d-4452-9500-139c51899b4e"
      },
      "outputs": [
        {
          "data": {
            "text/plain": [
              "987     3\n",
              "622     1\n",
              "499     0\n",
              "1369    3\n",
              "723     1\n",
              "1081    1\n",
              "82      3\n",
              "718     3\n",
              "1174    3\n",
              "1430    2\n",
              "Name: SalePrice_class, dtype: int32"
            ]
          },
          "execution_count": 53,
          "metadata": {},
          "output_type": "execute_result"
        }
      ],
      "source": [
        "df_price_global['SalePrice_class'].head(10)"
      ]
    },
    {
      "cell_type": "markdown",
      "metadata": {
        "id": "rhKpcRunZM_y"
      },
      "source": [
        "On sépare en jeu d'entraînement et jeu de test"
      ]
    },
    {
      "cell_type": "code",
      "execution_count": 54,
      "metadata": {
        "id": "qL7aYY8U-vLV"
      },
      "outputs": [],
      "source": [
        "X_train, X_test, y_train, y_test = train_test_split(df_global, df_price_global['SalePrice_class'], test_size=0.2)"
      ]
    },
    {
      "cell_type": "markdown",
      "metadata": {
        "id": "zsadGVk0TGkT"
      },
      "source": [
        "Modèle Random Forest"
      ]
    },
    {
      "cell_type": "code",
      "execution_count": 55,
      "metadata": {
        "colab": {
          "base_uri": "https://localhost:8080/"
        },
        "id": "GdQSoq1d6IG6",
        "outputId": "36e8c3fe-666b-4cd3-c035-a1a2dc61e1c3"
      },
      "outputs": [
        {
          "name": "stdout",
          "output_type": "stream",
          "text": [
            "0.708904109589041\n"
          ]
        }
      ],
      "source": [
        "from sklearn.ensemble import RandomForestClassifier\n",
        "\n",
        "rf = RandomForestClassifier(n_estimators=100, max_depth=5)\n",
        "rf.fit(X_train, y_train)\n",
        "pred_rf = rf.predict(X_test)\n",
        "\n",
        "accuracy_rfclassifier = accuracy_score(pred_rf, y_test)\n",
        "a = confusion_matrix(y_test,pred_rf)\n",
        "print(accuracy_rfclassifier)"
      ]
    },
    {
      "cell_type": "code",
      "execution_count": 56,
      "metadata": {
        "colab": {
          "base_uri": "https://localhost:8080/"
        },
        "id": "znlCRqWUamC7",
        "outputId": "a8d4647e-06fd-4a16-cb9a-5100c0692570"
      },
      "outputs": [
        {
          "name": "stdout",
          "output_type": "stream",
          "text": [
            "[[47 21  1  0]\n",
            " [19 47 12  0]\n",
            " [ 0 12 51  8]\n",
            " [ 0  1 11 62]]\n"
          ]
        }
      ],
      "source": [
        "print(a) #sur chaque ligne i la j-ème valeur correspond au nombre de prédiction de la classe i comme une classe j"
      ]
    },
    {
      "cell_type": "markdown",
      "metadata": {
        "id": "OTXl2COvVo5i"
      },
      "source": [
        "Modèle de Régression Logistique"
      ]
    },
    {
      "cell_type": "code",
      "execution_count": 57,
      "metadata": {
        "colab": {
          "base_uri": "https://localhost:8080/"
        },
        "id": "M1nl41iXCGFE",
        "outputId": "f5e8502d-7bc2-422d-f1f1-2a42b3bc00cd"
      },
      "outputs": [
        {
          "name": "stdout",
          "output_type": "stream",
          "text": [
            "0.678082191780822\n"
          ]
        }
      ],
      "source": [
        "from sklearn.linear_model import LogisticRegression\n",
        "\n",
        "lr = LogisticRegression(multi_class='ovr', max_iter=1000)\n",
        "lr.fit(X_train, y_train)\n",
        "pred_lr = lr.predict(X_test)\n",
        "\n",
        "# évaluer la précision du modèle\n",
        "accuracy_logisticregression = accuracy_score(pred_lr, y_test)\n",
        "a = confusion_matrix(y_test,pred_lr)\n",
        "print(accuracy_logisticregression)"
      ]
    },
    {
      "cell_type": "code",
      "execution_count": 58,
      "metadata": {
        "colab": {
          "base_uri": "https://localhost:8080/"
        },
        "id": "vp6Ly8zn_6R2",
        "outputId": "e18eb6f7-1ee8-4937-b359-39642a01343e"
      },
      "outputs": [
        {
          "name": "stdout",
          "output_type": "stream",
          "text": [
            "[[54 13  2  0]\n",
            " [25 32 20  1]\n",
            " [ 0 13 46 12]\n",
            " [ 0  1  7 66]]\n"
          ]
        }
      ],
      "source": [
        "print(a) #sur chaque ligne i la j-ème valeur correspond au nombre de prédiction de la classe i comme une classe j"
      ]
    },
    {
      "cell_type": "markdown",
      "metadata": {
        "id": "w4-bF7GLVuTN"
      },
      "source": [
        "Modèle Decision Tree"
      ]
    },
    {
      "cell_type": "code",
      "execution_count": 59,
      "metadata": {
        "colab": {
          "base_uri": "https://localhost:8080/"
        },
        "id": "K2x_Jynr-IfM",
        "outputId": "472314bd-fb95-4403-87f4-ed5ff70f5063"
      },
      "outputs": [
        {
          "name": "stdout",
          "output_type": "stream",
          "text": [
            "0.6404109589041096\n"
          ]
        }
      ],
      "source": [
        "from sklearn.tree import DecisionTreeClassifier\n",
        "\n",
        "X_train, X_test, y_train, y_test = train_test_split(df_global, df_price_global['SalePrice_class'], test_size=0.2)\n",
        "\n",
        "dtc = DecisionTreeClassifier(random_state=42)\n",
        "dtc.fit(X_train, y_train)\n",
        "pred_dtc = dtc.predict(X_test)\n",
        "\n",
        "accuracy_dtclassifier = accuracy_score(pred_dtc, y_test)\n",
        "a = confusion_matrix(y_test, pred_rf)\n",
        "print(accuracy_dtclassifier)"
      ]
    },
    {
      "cell_type": "code",
      "execution_count": 60,
      "metadata": {
        "colab": {
          "base_uri": "https://localhost:8080/"
        },
        "id": "YJXNAfEc4gqO",
        "outputId": "7d1acf20-125b-454d-ecad-155009da40d5"
      },
      "outputs": [
        {
          "name": "stdout",
          "output_type": "stream",
          "text": [
            "[[18 24 18 23]\n",
            " [13 21 17 21]\n",
            " [17 22 25 11]\n",
            " [18 14 15 15]]\n"
          ]
        }
      ],
      "source": [
        "print(a) #sur chaque ligne i la j-ème valeur correspond au nombre de prédiction de la classe i comme une classe j"
      ]
    }
  ],
  "metadata": {
    "colab": {
      "provenance": []
    },
    "kernelspec": {
      "display_name": "Python 3",
      "name": "python3"
    },
    "language_info": {
      "codemirror_mode": {
        "name": "ipython",
        "version": 3
      },
      "file_extension": ".py",
      "mimetype": "text/x-python",
      "name": "python",
      "nbconvert_exporter": "python",
      "pygments_lexer": "ipython3",
      "version": "3.10.5"
    }
  },
  "nbformat": 4,
  "nbformat_minor": 0
}
